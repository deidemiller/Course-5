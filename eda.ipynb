{
 "cells": [
  {
   "cell_type": "markdown",
   "metadata": {},
   "source": [
    "# Exploratory Analysis of Credit Card Defaults"
   ]
  },
  {
   "cell_type": "markdown",
   "metadata": {},
   "source": [
    "## Importing the Data and Libraries"
   ]
  },
  {
   "cell_type": "code",
   "execution_count": 29,
   "metadata": {},
   "outputs": [],
   "source": [
    "import pandas as pd\n",
    "import matplotlib as mpl\n",
    "from pandas import Series, DataFrame\n",
    "import numpy as np\n",
    "import matplotlib.pyplot as plt\n",
    "import seaborn as sns\n",
    "creditDefault = pd.read_csv('default of credit card clients.csv', header = 1)"
   ]
  },
  {
   "cell_type": "markdown",
   "metadata": {},
   "source": [
    "## Remove the ID Column"
   ]
  },
  {
   "cell_type": "code",
   "execution_count": 85,
   "metadata": {},
   "outputs": [],
   "source": [
    "del creditDefault['ID']"
   ]
  },
  {
   "cell_type": "markdown",
   "metadata": {},
   "source": [
    "## Remove Gender to Prevent Discrimination"
   ]
  },
  {
   "cell_type": "code",
   "execution_count": 57,
   "metadata": {},
   "outputs": [],
   "source": [
    "del creditDefault['SEX']"
   ]
  },
  {
   "cell_type": "markdown",
   "metadata": {},
   "source": [
    "## Inspect the Head"
   ]
  },
  {
   "cell_type": "code",
   "execution_count": 86,
   "metadata": {},
   "outputs": [
    {
     "data": {
      "text/html": [
       "<div>\n",
       "<style scoped>\n",
       "    .dataframe tbody tr th:only-of-type {\n",
       "        vertical-align: middle;\n",
       "    }\n",
       "\n",
       "    .dataframe tbody tr th {\n",
       "        vertical-align: top;\n",
       "    }\n",
       "\n",
       "    .dataframe thead th {\n",
       "        text-align: right;\n",
       "    }\n",
       "</style>\n",
       "<table border=\"1\" class=\"dataframe\">\n",
       "  <thead>\n",
       "    <tr style=\"text-align: right;\">\n",
       "      <th></th>\n",
       "      <th>LIMIT_BAL</th>\n",
       "      <th>EDUCATION</th>\n",
       "      <th>MARRIAGE</th>\n",
       "      <th>AGE</th>\n",
       "      <th>PAY_0</th>\n",
       "      <th>PAY_2</th>\n",
       "      <th>PAY_3</th>\n",
       "      <th>PAY_4</th>\n",
       "      <th>PAY_5</th>\n",
       "      <th>PAY_6</th>\n",
       "      <th>...</th>\n",
       "      <th>BILL_AMT4</th>\n",
       "      <th>BILL_AMT5</th>\n",
       "      <th>BILL_AMT6</th>\n",
       "      <th>PAY_AMT1</th>\n",
       "      <th>PAY_AMT2</th>\n",
       "      <th>PAY_AMT3</th>\n",
       "      <th>PAY_AMT4</th>\n",
       "      <th>PAY_AMT5</th>\n",
       "      <th>PAY_AMT6</th>\n",
       "      <th>default payment next month</th>\n",
       "    </tr>\n",
       "  </thead>\n",
       "  <tbody>\n",
       "    <tr>\n",
       "      <td>0</td>\n",
       "      <td>20000</td>\n",
       "      <td>2</td>\n",
       "      <td>1</td>\n",
       "      <td>24</td>\n",
       "      <td>2</td>\n",
       "      <td>2</td>\n",
       "      <td>-1</td>\n",
       "      <td>-1</td>\n",
       "      <td>-2</td>\n",
       "      <td>-2</td>\n",
       "      <td>...</td>\n",
       "      <td>0</td>\n",
       "      <td>0</td>\n",
       "      <td>0</td>\n",
       "      <td>0</td>\n",
       "      <td>689</td>\n",
       "      <td>0</td>\n",
       "      <td>0</td>\n",
       "      <td>0</td>\n",
       "      <td>0</td>\n",
       "      <td>1</td>\n",
       "    </tr>\n",
       "    <tr>\n",
       "      <td>1</td>\n",
       "      <td>120000</td>\n",
       "      <td>2</td>\n",
       "      <td>2</td>\n",
       "      <td>26</td>\n",
       "      <td>-1</td>\n",
       "      <td>2</td>\n",
       "      <td>0</td>\n",
       "      <td>0</td>\n",
       "      <td>0</td>\n",
       "      <td>2</td>\n",
       "      <td>...</td>\n",
       "      <td>3272</td>\n",
       "      <td>3455</td>\n",
       "      <td>3261</td>\n",
       "      <td>0</td>\n",
       "      <td>1000</td>\n",
       "      <td>1000</td>\n",
       "      <td>1000</td>\n",
       "      <td>0</td>\n",
       "      <td>2000</td>\n",
       "      <td>1</td>\n",
       "    </tr>\n",
       "    <tr>\n",
       "      <td>2</td>\n",
       "      <td>90000</td>\n",
       "      <td>2</td>\n",
       "      <td>2</td>\n",
       "      <td>34</td>\n",
       "      <td>0</td>\n",
       "      <td>0</td>\n",
       "      <td>0</td>\n",
       "      <td>0</td>\n",
       "      <td>0</td>\n",
       "      <td>0</td>\n",
       "      <td>...</td>\n",
       "      <td>14331</td>\n",
       "      <td>14948</td>\n",
       "      <td>15549</td>\n",
       "      <td>1518</td>\n",
       "      <td>1500</td>\n",
       "      <td>1000</td>\n",
       "      <td>1000</td>\n",
       "      <td>1000</td>\n",
       "      <td>5000</td>\n",
       "      <td>0</td>\n",
       "    </tr>\n",
       "    <tr>\n",
       "      <td>3</td>\n",
       "      <td>50000</td>\n",
       "      <td>2</td>\n",
       "      <td>1</td>\n",
       "      <td>37</td>\n",
       "      <td>0</td>\n",
       "      <td>0</td>\n",
       "      <td>0</td>\n",
       "      <td>0</td>\n",
       "      <td>0</td>\n",
       "      <td>0</td>\n",
       "      <td>...</td>\n",
       "      <td>28314</td>\n",
       "      <td>28959</td>\n",
       "      <td>29547</td>\n",
       "      <td>2000</td>\n",
       "      <td>2019</td>\n",
       "      <td>1200</td>\n",
       "      <td>1100</td>\n",
       "      <td>1069</td>\n",
       "      <td>1000</td>\n",
       "      <td>0</td>\n",
       "    </tr>\n",
       "    <tr>\n",
       "      <td>4</td>\n",
       "      <td>50000</td>\n",
       "      <td>2</td>\n",
       "      <td>1</td>\n",
       "      <td>57</td>\n",
       "      <td>-1</td>\n",
       "      <td>0</td>\n",
       "      <td>-1</td>\n",
       "      <td>0</td>\n",
       "      <td>0</td>\n",
       "      <td>0</td>\n",
       "      <td>...</td>\n",
       "      <td>20940</td>\n",
       "      <td>19146</td>\n",
       "      <td>19131</td>\n",
       "      <td>2000</td>\n",
       "      <td>36681</td>\n",
       "      <td>10000</td>\n",
       "      <td>9000</td>\n",
       "      <td>689</td>\n",
       "      <td>679</td>\n",
       "      <td>0</td>\n",
       "    </tr>\n",
       "  </tbody>\n",
       "</table>\n",
       "<p>5 rows × 23 columns</p>\n",
       "</div>"
      ],
      "text/plain": [
       "   LIMIT_BAL  EDUCATION  MARRIAGE  AGE  PAY_0  PAY_2  PAY_3  PAY_4  PAY_5  \\\n",
       "0      20000          2         1   24      2      2     -1     -1     -2   \n",
       "1     120000          2         2   26     -1      2      0      0      0   \n",
       "2      90000          2         2   34      0      0      0      0      0   \n",
       "3      50000          2         1   37      0      0      0      0      0   \n",
       "4      50000          2         1   57     -1      0     -1      0      0   \n",
       "\n",
       "   PAY_6  ...  BILL_AMT4  BILL_AMT5  BILL_AMT6  PAY_AMT1  PAY_AMT2  PAY_AMT3  \\\n",
       "0     -2  ...          0          0          0         0       689         0   \n",
       "1      2  ...       3272       3455       3261         0      1000      1000   \n",
       "2      0  ...      14331      14948      15549      1518      1500      1000   \n",
       "3      0  ...      28314      28959      29547      2000      2019      1200   \n",
       "4      0  ...      20940      19146      19131      2000     36681     10000   \n",
       "\n",
       "   PAY_AMT4  PAY_AMT5  PAY_AMT6  default payment next month  \n",
       "0         0         0         0                           1  \n",
       "1      1000         0      2000                           1  \n",
       "2      1000      1000      5000                           0  \n",
       "3      1100      1069      1000                           0  \n",
       "4      9000       689       679                           0  \n",
       "\n",
       "[5 rows x 23 columns]"
      ]
     },
     "execution_count": 86,
     "metadata": {},
     "output_type": "execute_result"
    }
   ],
   "source": [
    "creditDefault.head()"
   ]
  },
  {
   "cell_type": "markdown",
   "metadata": {},
   "source": [
    "## Summary of file"
   ]
  },
  {
   "cell_type": "code",
   "execution_count": 87,
   "metadata": {},
   "outputs": [
    {
     "data": {
      "text/html": [
       "<div>\n",
       "<style scoped>\n",
       "    .dataframe tbody tr th:only-of-type {\n",
       "        vertical-align: middle;\n",
       "    }\n",
       "\n",
       "    .dataframe tbody tr th {\n",
       "        vertical-align: top;\n",
       "    }\n",
       "\n",
       "    .dataframe thead th {\n",
       "        text-align: right;\n",
       "    }\n",
       "</style>\n",
       "<table border=\"1\" class=\"dataframe\">\n",
       "  <thead>\n",
       "    <tr style=\"text-align: right;\">\n",
       "      <th></th>\n",
       "      <th>LIMIT_BAL</th>\n",
       "      <th>EDUCATION</th>\n",
       "      <th>MARRIAGE</th>\n",
       "      <th>AGE</th>\n",
       "      <th>PAY_0</th>\n",
       "      <th>PAY_2</th>\n",
       "      <th>PAY_3</th>\n",
       "      <th>PAY_4</th>\n",
       "      <th>PAY_5</th>\n",
       "      <th>PAY_6</th>\n",
       "      <th>...</th>\n",
       "      <th>BILL_AMT4</th>\n",
       "      <th>BILL_AMT5</th>\n",
       "      <th>BILL_AMT6</th>\n",
       "      <th>PAY_AMT1</th>\n",
       "      <th>PAY_AMT2</th>\n",
       "      <th>PAY_AMT3</th>\n",
       "      <th>PAY_AMT4</th>\n",
       "      <th>PAY_AMT5</th>\n",
       "      <th>PAY_AMT6</th>\n",
       "      <th>default payment next month</th>\n",
       "    </tr>\n",
       "  </thead>\n",
       "  <tbody>\n",
       "    <tr>\n",
       "      <td>count</td>\n",
       "      <td>30000.000000</td>\n",
       "      <td>30000.000000</td>\n",
       "      <td>30000.000000</td>\n",
       "      <td>30000.000000</td>\n",
       "      <td>30000.000000</td>\n",
       "      <td>30000.000000</td>\n",
       "      <td>30000.000000</td>\n",
       "      <td>30000.000000</td>\n",
       "      <td>30000.000000</td>\n",
       "      <td>30000.000000</td>\n",
       "      <td>...</td>\n",
       "      <td>30000.000000</td>\n",
       "      <td>30000.000000</td>\n",
       "      <td>30000.000000</td>\n",
       "      <td>30000.000000</td>\n",
       "      <td>3.000000e+04</td>\n",
       "      <td>30000.00000</td>\n",
       "      <td>30000.000000</td>\n",
       "      <td>30000.000000</td>\n",
       "      <td>30000.000000</td>\n",
       "      <td>30000.000000</td>\n",
       "    </tr>\n",
       "    <tr>\n",
       "      <td>mean</td>\n",
       "      <td>167484.322667</td>\n",
       "      <td>1.853133</td>\n",
       "      <td>1.551867</td>\n",
       "      <td>35.485500</td>\n",
       "      <td>-0.016700</td>\n",
       "      <td>-0.133767</td>\n",
       "      <td>-0.166200</td>\n",
       "      <td>-0.220667</td>\n",
       "      <td>-0.266200</td>\n",
       "      <td>-0.291100</td>\n",
       "      <td>...</td>\n",
       "      <td>43262.948967</td>\n",
       "      <td>40311.400967</td>\n",
       "      <td>38871.760400</td>\n",
       "      <td>5663.580500</td>\n",
       "      <td>5.921163e+03</td>\n",
       "      <td>5225.68150</td>\n",
       "      <td>4826.076867</td>\n",
       "      <td>4799.387633</td>\n",
       "      <td>5215.502567</td>\n",
       "      <td>0.221200</td>\n",
       "    </tr>\n",
       "    <tr>\n",
       "      <td>std</td>\n",
       "      <td>129747.661567</td>\n",
       "      <td>0.790349</td>\n",
       "      <td>0.521970</td>\n",
       "      <td>9.217904</td>\n",
       "      <td>1.123802</td>\n",
       "      <td>1.197186</td>\n",
       "      <td>1.196868</td>\n",
       "      <td>1.169139</td>\n",
       "      <td>1.133187</td>\n",
       "      <td>1.149988</td>\n",
       "      <td>...</td>\n",
       "      <td>64332.856134</td>\n",
       "      <td>60797.155770</td>\n",
       "      <td>59554.107537</td>\n",
       "      <td>16563.280354</td>\n",
       "      <td>2.304087e+04</td>\n",
       "      <td>17606.96147</td>\n",
       "      <td>15666.159744</td>\n",
       "      <td>15278.305679</td>\n",
       "      <td>17777.465775</td>\n",
       "      <td>0.415062</td>\n",
       "    </tr>\n",
       "    <tr>\n",
       "      <td>min</td>\n",
       "      <td>10000.000000</td>\n",
       "      <td>0.000000</td>\n",
       "      <td>0.000000</td>\n",
       "      <td>21.000000</td>\n",
       "      <td>-2.000000</td>\n",
       "      <td>-2.000000</td>\n",
       "      <td>-2.000000</td>\n",
       "      <td>-2.000000</td>\n",
       "      <td>-2.000000</td>\n",
       "      <td>-2.000000</td>\n",
       "      <td>...</td>\n",
       "      <td>-170000.000000</td>\n",
       "      <td>-81334.000000</td>\n",
       "      <td>-339603.000000</td>\n",
       "      <td>0.000000</td>\n",
       "      <td>0.000000e+00</td>\n",
       "      <td>0.00000</td>\n",
       "      <td>0.000000</td>\n",
       "      <td>0.000000</td>\n",
       "      <td>0.000000</td>\n",
       "      <td>0.000000</td>\n",
       "    </tr>\n",
       "    <tr>\n",
       "      <td>25%</td>\n",
       "      <td>50000.000000</td>\n",
       "      <td>1.000000</td>\n",
       "      <td>1.000000</td>\n",
       "      <td>28.000000</td>\n",
       "      <td>-1.000000</td>\n",
       "      <td>-1.000000</td>\n",
       "      <td>-1.000000</td>\n",
       "      <td>-1.000000</td>\n",
       "      <td>-1.000000</td>\n",
       "      <td>-1.000000</td>\n",
       "      <td>...</td>\n",
       "      <td>2326.750000</td>\n",
       "      <td>1763.000000</td>\n",
       "      <td>1256.000000</td>\n",
       "      <td>1000.000000</td>\n",
       "      <td>8.330000e+02</td>\n",
       "      <td>390.00000</td>\n",
       "      <td>296.000000</td>\n",
       "      <td>252.500000</td>\n",
       "      <td>117.750000</td>\n",
       "      <td>0.000000</td>\n",
       "    </tr>\n",
       "    <tr>\n",
       "      <td>50%</td>\n",
       "      <td>140000.000000</td>\n",
       "      <td>2.000000</td>\n",
       "      <td>2.000000</td>\n",
       "      <td>34.000000</td>\n",
       "      <td>0.000000</td>\n",
       "      <td>0.000000</td>\n",
       "      <td>0.000000</td>\n",
       "      <td>0.000000</td>\n",
       "      <td>0.000000</td>\n",
       "      <td>0.000000</td>\n",
       "      <td>...</td>\n",
       "      <td>19052.000000</td>\n",
       "      <td>18104.500000</td>\n",
       "      <td>17071.000000</td>\n",
       "      <td>2100.000000</td>\n",
       "      <td>2.009000e+03</td>\n",
       "      <td>1800.00000</td>\n",
       "      <td>1500.000000</td>\n",
       "      <td>1500.000000</td>\n",
       "      <td>1500.000000</td>\n",
       "      <td>0.000000</td>\n",
       "    </tr>\n",
       "    <tr>\n",
       "      <td>75%</td>\n",
       "      <td>240000.000000</td>\n",
       "      <td>2.000000</td>\n",
       "      <td>2.000000</td>\n",
       "      <td>41.000000</td>\n",
       "      <td>0.000000</td>\n",
       "      <td>0.000000</td>\n",
       "      <td>0.000000</td>\n",
       "      <td>0.000000</td>\n",
       "      <td>0.000000</td>\n",
       "      <td>0.000000</td>\n",
       "      <td>...</td>\n",
       "      <td>54506.000000</td>\n",
       "      <td>50190.500000</td>\n",
       "      <td>49198.250000</td>\n",
       "      <td>5006.000000</td>\n",
       "      <td>5.000000e+03</td>\n",
       "      <td>4505.00000</td>\n",
       "      <td>4013.250000</td>\n",
       "      <td>4031.500000</td>\n",
       "      <td>4000.000000</td>\n",
       "      <td>0.000000</td>\n",
       "    </tr>\n",
       "    <tr>\n",
       "      <td>max</td>\n",
       "      <td>1000000.000000</td>\n",
       "      <td>6.000000</td>\n",
       "      <td>3.000000</td>\n",
       "      <td>79.000000</td>\n",
       "      <td>8.000000</td>\n",
       "      <td>8.000000</td>\n",
       "      <td>8.000000</td>\n",
       "      <td>8.000000</td>\n",
       "      <td>8.000000</td>\n",
       "      <td>8.000000</td>\n",
       "      <td>...</td>\n",
       "      <td>891586.000000</td>\n",
       "      <td>927171.000000</td>\n",
       "      <td>961664.000000</td>\n",
       "      <td>873552.000000</td>\n",
       "      <td>1.684259e+06</td>\n",
       "      <td>896040.00000</td>\n",
       "      <td>621000.000000</td>\n",
       "      <td>426529.000000</td>\n",
       "      <td>528666.000000</td>\n",
       "      <td>1.000000</td>\n",
       "    </tr>\n",
       "  </tbody>\n",
       "</table>\n",
       "<p>8 rows × 23 columns</p>\n",
       "</div>"
      ],
      "text/plain": [
       "            LIMIT_BAL     EDUCATION      MARRIAGE           AGE         PAY_0  \\\n",
       "count    30000.000000  30000.000000  30000.000000  30000.000000  30000.000000   \n",
       "mean    167484.322667      1.853133      1.551867     35.485500     -0.016700   \n",
       "std     129747.661567      0.790349      0.521970      9.217904      1.123802   \n",
       "min      10000.000000      0.000000      0.000000     21.000000     -2.000000   \n",
       "25%      50000.000000      1.000000      1.000000     28.000000     -1.000000   \n",
       "50%     140000.000000      2.000000      2.000000     34.000000      0.000000   \n",
       "75%     240000.000000      2.000000      2.000000     41.000000      0.000000   \n",
       "max    1000000.000000      6.000000      3.000000     79.000000      8.000000   \n",
       "\n",
       "              PAY_2         PAY_3         PAY_4         PAY_5         PAY_6  \\\n",
       "count  30000.000000  30000.000000  30000.000000  30000.000000  30000.000000   \n",
       "mean      -0.133767     -0.166200     -0.220667     -0.266200     -0.291100   \n",
       "std        1.197186      1.196868      1.169139      1.133187      1.149988   \n",
       "min       -2.000000     -2.000000     -2.000000     -2.000000     -2.000000   \n",
       "25%       -1.000000     -1.000000     -1.000000     -1.000000     -1.000000   \n",
       "50%        0.000000      0.000000      0.000000      0.000000      0.000000   \n",
       "75%        0.000000      0.000000      0.000000      0.000000      0.000000   \n",
       "max        8.000000      8.000000      8.000000      8.000000      8.000000   \n",
       "\n",
       "       ...      BILL_AMT4      BILL_AMT5      BILL_AMT6       PAY_AMT1  \\\n",
       "count  ...   30000.000000   30000.000000   30000.000000   30000.000000   \n",
       "mean   ...   43262.948967   40311.400967   38871.760400    5663.580500   \n",
       "std    ...   64332.856134   60797.155770   59554.107537   16563.280354   \n",
       "min    ... -170000.000000  -81334.000000 -339603.000000       0.000000   \n",
       "25%    ...    2326.750000    1763.000000    1256.000000    1000.000000   \n",
       "50%    ...   19052.000000   18104.500000   17071.000000    2100.000000   \n",
       "75%    ...   54506.000000   50190.500000   49198.250000    5006.000000   \n",
       "max    ...  891586.000000  927171.000000  961664.000000  873552.000000   \n",
       "\n",
       "           PAY_AMT2      PAY_AMT3       PAY_AMT4       PAY_AMT5  \\\n",
       "count  3.000000e+04   30000.00000   30000.000000   30000.000000   \n",
       "mean   5.921163e+03    5225.68150    4826.076867    4799.387633   \n",
       "std    2.304087e+04   17606.96147   15666.159744   15278.305679   \n",
       "min    0.000000e+00       0.00000       0.000000       0.000000   \n",
       "25%    8.330000e+02     390.00000     296.000000     252.500000   \n",
       "50%    2.009000e+03    1800.00000    1500.000000    1500.000000   \n",
       "75%    5.000000e+03    4505.00000    4013.250000    4031.500000   \n",
       "max    1.684259e+06  896040.00000  621000.000000  426529.000000   \n",
       "\n",
       "            PAY_AMT6  default payment next month  \n",
       "count   30000.000000                30000.000000  \n",
       "mean     5215.502567                    0.221200  \n",
       "std     17777.465775                    0.415062  \n",
       "min         0.000000                    0.000000  \n",
       "25%       117.750000                    0.000000  \n",
       "50%      1500.000000                    0.000000  \n",
       "75%      4000.000000                    0.000000  \n",
       "max    528666.000000                    1.000000  \n",
       "\n",
       "[8 rows x 23 columns]"
      ]
     },
     "execution_count": 87,
     "metadata": {},
     "output_type": "execute_result"
    }
   ],
   "source": [
    "creditDefault.describe()"
   ]
  },
  {
   "cell_type": "code",
   "execution_count": 88,
   "metadata": {},
   "outputs": [
    {
     "name": "stdout",
     "output_type": "stream",
     "text": [
      "<class 'pandas.core.frame.DataFrame'>\n",
      "RangeIndex: 30000 entries, 0 to 29999\n",
      "Data columns (total 23 columns):\n",
      "LIMIT_BAL                     30000 non-null int64\n",
      "EDUCATION                     30000 non-null int64\n",
      "MARRIAGE                      30000 non-null int64\n",
      "AGE                           30000 non-null int64\n",
      "PAY_0                         30000 non-null int64\n",
      "PAY_2                         30000 non-null int64\n",
      "PAY_3                         30000 non-null int64\n",
      "PAY_4                         30000 non-null int64\n",
      "PAY_5                         30000 non-null int64\n",
      "PAY_6                         30000 non-null int64\n",
      "BILL_AMT1                     30000 non-null int64\n",
      "BILL_AMT2                     30000 non-null int64\n",
      "BILL_AMT3                     30000 non-null int64\n",
      "BILL_AMT4                     30000 non-null int64\n",
      "BILL_AMT5                     30000 non-null int64\n",
      "BILL_AMT6                     30000 non-null int64\n",
      "PAY_AMT1                      30000 non-null int64\n",
      "PAY_AMT2                      30000 non-null int64\n",
      "PAY_AMT3                      30000 non-null int64\n",
      "PAY_AMT4                      30000 non-null int64\n",
      "PAY_AMT5                      30000 non-null int64\n",
      "PAY_AMT6                      30000 non-null int64\n",
      "default payment next month    30000 non-null int64\n",
      "dtypes: int64(23)\n",
      "memory usage: 5.3 MB\n"
     ]
    }
   ],
   "source": [
    "creditDefault.info()"
   ]
  },
  {
   "cell_type": "markdown",
   "metadata": {},
   "source": [
    "## Balance Limit Histogram"
   ]
  },
  {
   "cell_type": "code",
   "execution_count": 21,
   "metadata": {},
   "outputs": [
    {
     "data": {
      "image/png": "[encoded data removed]",
      "text/plain": [
       "<Figure size 432x288 with 1 Axes>"
      ]
     },
     "metadata": {
      "needs_background": "light"
     },
     "output_type": "display_data"
    }
   ],
   "source": [
    "header = creditDefault.dtypes.index\n",
    "plt.hist(creditDefault['LIMIT_BAL'])\n",
    "plt.show()"
   ]
  },
  {
   "cell_type": "markdown",
   "metadata": {},
   "source": [
    "## Balance Limit Histogram w/4 Bins"
   ]
  },
  {
   "cell_type": "code",
   "execution_count": 23,
   "metadata": {},
   "outputs": [
    {
     "data": {
      "image/png": "[encoded data removed]",
      "text/plain": [
       "<Figure size 432x288 with 1 Axes>"
      ]
     },
     "metadata": {
      "needs_background": "light"
     },
     "output_type": "display_data"
    }
   ],
   "source": [
    "plt.hist(creditDefault['LIMIT_BAL'], bins=4)\n",
    "plt.show()"
   ]
  },
  {
   "cell_type": "markdown",
   "metadata": {},
   "source": [
    "## Age Distribution Histogram"
   ]
  },
  {
   "cell_type": "code",
   "execution_count": 25,
   "metadata": {},
   "outputs": [
    {
     "data": {
      "image/png": "[encoded data removed]",
      "text/plain": [
       "<Figure size 432x288 with 1 Axes>"
      ]
     },
     "metadata": {
      "needs_background": "light"
     },
     "output_type": "display_data"
    }
   ],
   "source": [
    "plt.hist(creditDefault['AGE'])\n",
    "plt.show()"
   ]
  },
  {
   "cell_type": "markdown",
   "metadata": {},
   "source": [
    "## Education and Defaults"
   ]
  },
  {
   "cell_type": "code",
   "execution_count": 32,
   "metadata": {},
   "outputs": [
    {
     "data": {
      "text/plain": [
       "EDUCATION  default payment next month\n",
       "0          0                                14\n",
       "1          0                              8549\n",
       "           1                              2036\n",
       "2          0                             10700\n",
       "           1                              3330\n",
       "3          0                              3680\n",
       "           1                              1237\n",
       "4          0                               116\n",
       "           1                                 7\n",
       "5          0                               262\n",
       "           1                                18\n",
       "6          0                                43\n",
       "           1                                 8\n",
       "Name: EDUCATION, dtype: int64"
      ]
     },
     "execution_count": 32,
     "metadata": {},
     "output_type": "execute_result"
    }
   ],
   "source": [
    "creditDefault.groupby(['EDUCATION', 'default payment next month'])['EDUCATION'].count()"
   ]
  },
  {
   "cell_type": "markdown",
   "metadata": {},
   "source": [
    "## Isolate Defaulted Accounts"
   ]
  },
  {
   "cell_type": "code",
   "execution_count": null,
   "metadata": {},
   "outputs": [],
   "source": [
    "creditDefaultTrue = creditDefault[creditDefault['default payment next month'] == 1]"
   ]
  },
  {
   "cell_type": "markdown",
   "metadata": {},
   "source": [
    "## Remove Zero Dollar Final Bill Amounts and Negative Bill Amounts"
   ]
  },
  {
   "cell_type": "code",
   "execution_count": 117,
   "metadata": {},
   "outputs": [
    {
     "data": {
      "text/html": [
       "<div>\n",
       "<style scoped>\n",
       "    .dataframe tbody tr th:only-of-type {\n",
       "        vertical-align: middle;\n",
       "    }\n",
       "\n",
       "    .dataframe tbody tr th {\n",
       "        vertical-align: top;\n",
       "    }\n",
       "\n",
       "    .dataframe thead th {\n",
       "        text-align: right;\n",
       "    }\n",
       "</style>\n",
       "<table border=\"1\" class=\"dataframe\">\n",
       "  <thead>\n",
       "    <tr style=\"text-align: right;\">\n",
       "      <th></th>\n",
       "      <th>LIMIT_BAL</th>\n",
       "      <th>EDUCATION</th>\n",
       "      <th>MARRIAGE</th>\n",
       "      <th>AGE</th>\n",
       "      <th>PAY_0</th>\n",
       "      <th>PAY_2</th>\n",
       "      <th>PAY_3</th>\n",
       "      <th>PAY_4</th>\n",
       "      <th>PAY_5</th>\n",
       "      <th>PAY_6</th>\n",
       "      <th>...</th>\n",
       "      <th>BILL_AMT4</th>\n",
       "      <th>BILL_AMT5</th>\n",
       "      <th>BILL_AMT6</th>\n",
       "      <th>PAY_AMT1</th>\n",
       "      <th>PAY_AMT2</th>\n",
       "      <th>PAY_AMT3</th>\n",
       "      <th>PAY_AMT4</th>\n",
       "      <th>PAY_AMT5</th>\n",
       "      <th>PAY_AMT6</th>\n",
       "      <th>default payment next month</th>\n",
       "    </tr>\n",
       "  </thead>\n",
       "  <tbody>\n",
       "    <tr>\n",
       "      <td>count</td>\n",
       "      <td>5550.000000</td>\n",
       "      <td>5550.000000</td>\n",
       "      <td>5550.000000</td>\n",
       "      <td>5550.000000</td>\n",
       "      <td>5550.00000</td>\n",
       "      <td>5550.000000</td>\n",
       "      <td>5550.000000</td>\n",
       "      <td>5550.000000</td>\n",
       "      <td>5550.000000</td>\n",
       "      <td>5550.000000</td>\n",
       "      <td>...</td>\n",
       "      <td>5550.000000</td>\n",
       "      <td>5550.000000</td>\n",
       "      <td>5550.000000</td>\n",
       "      <td>5550.000000</td>\n",
       "      <td>5550.000000</td>\n",
       "      <td>5550.000000</td>\n",
       "      <td>5550.000000</td>\n",
       "      <td>5550.000000</td>\n",
       "      <td>5550.000000</td>\n",
       "      <td>5550.0</td>\n",
       "    </tr>\n",
       "    <tr>\n",
       "      <td>mean</td>\n",
       "      <td>122693.275676</td>\n",
       "      <td>1.910631</td>\n",
       "      <td>1.530991</td>\n",
       "      <td>35.558378</td>\n",
       "      <td>0.79009</td>\n",
       "      <td>0.687207</td>\n",
       "      <td>0.608649</td>\n",
       "      <td>0.531171</td>\n",
       "      <td>0.469730</td>\n",
       "      <td>0.454955</td>\n",
       "      <td>...</td>\n",
       "      <td>49251.121802</td>\n",
       "      <td>46817.135856</td>\n",
       "      <td>45877.477477</td>\n",
       "      <td>3754.161261</td>\n",
       "      <td>3809.907748</td>\n",
       "      <td>3789.301261</td>\n",
       "      <td>3629.280901</td>\n",
       "      <td>3835.073514</td>\n",
       "      <td>3767.007748</td>\n",
       "      <td>1.0</td>\n",
       "    </tr>\n",
       "    <tr>\n",
       "      <td>std</td>\n",
       "      <td>110912.492363</td>\n",
       "      <td>0.711828</td>\n",
       "      <td>0.526496</td>\n",
       "      <td>9.658734</td>\n",
       "      <td>1.35861</td>\n",
       "      <td>1.401476</td>\n",
       "      <td>1.400897</td>\n",
       "      <td>1.413583</td>\n",
       "      <td>1.378752</td>\n",
       "      <td>1.346604</td>\n",
       "      <td>...</td>\n",
       "      <td>67593.265342</td>\n",
       "      <td>64545.822887</td>\n",
       "      <td>62189.847870</td>\n",
       "      <td>10044.189811</td>\n",
       "      <td>12659.598122</td>\n",
       "      <td>13832.660953</td>\n",
       "      <td>12054.530909</td>\n",
       "      <td>12960.681681</td>\n",
       "      <td>13305.136089</td>\n",
       "      <td>0.0</td>\n",
       "    </tr>\n",
       "    <tr>\n",
       "      <td>min</td>\n",
       "      <td>10000.000000</td>\n",
       "      <td>1.000000</td>\n",
       "      <td>0.000000</td>\n",
       "      <td>21.000000</td>\n",
       "      <td>-2.00000</td>\n",
       "      <td>-2.000000</td>\n",
       "      <td>-2.000000</td>\n",
       "      <td>-2.000000</td>\n",
       "      <td>-2.000000</td>\n",
       "      <td>-2.000000</td>\n",
       "      <td>...</td>\n",
       "      <td>-65167.000000</td>\n",
       "      <td>-30481.000000</td>\n",
       "      <td>10.000000</td>\n",
       "      <td>0.000000</td>\n",
       "      <td>0.000000</td>\n",
       "      <td>0.000000</td>\n",
       "      <td>0.000000</td>\n",
       "      <td>0.000000</td>\n",
       "      <td>0.000000</td>\n",
       "      <td>1.0</td>\n",
       "    </tr>\n",
       "    <tr>\n",
       "      <td>25%</td>\n",
       "      <td>50000.000000</td>\n",
       "      <td>1.000000</td>\n",
       "      <td>1.000000</td>\n",
       "      <td>28.000000</td>\n",
       "      <td>0.00000</td>\n",
       "      <td>0.000000</td>\n",
       "      <td>0.000000</td>\n",
       "      <td>0.000000</td>\n",
       "      <td>0.000000</td>\n",
       "      <td>0.000000</td>\n",
       "      <td>...</td>\n",
       "      <td>8530.750000</td>\n",
       "      <td>8538.250000</td>\n",
       "      <td>8254.000000</td>\n",
       "      <td>300.000000</td>\n",
       "      <td>396.000000</td>\n",
       "      <td>349.000000</td>\n",
       "      <td>346.000000</td>\n",
       "      <td>496.000000</td>\n",
       "      <td>323.250000</td>\n",
       "      <td>1.0</td>\n",
       "    </tr>\n",
       "    <tr>\n",
       "      <td>50%</td>\n",
       "      <td>80000.000000</td>\n",
       "      <td>2.000000</td>\n",
       "      <td>2.000000</td>\n",
       "      <td>34.000000</td>\n",
       "      <td>1.00000</td>\n",
       "      <td>0.000000</td>\n",
       "      <td>0.000000</td>\n",
       "      <td>0.000000</td>\n",
       "      <td>0.000000</td>\n",
       "      <td>0.000000</td>\n",
       "      <td>...</td>\n",
       "      <td>25225.000000</td>\n",
       "      <td>23428.500000</td>\n",
       "      <td>23173.000000</td>\n",
       "      <td>1972.500000</td>\n",
       "      <td>1900.000000</td>\n",
       "      <td>1500.000000</td>\n",
       "      <td>1300.000000</td>\n",
       "      <td>1500.000000</td>\n",
       "      <td>1300.000000</td>\n",
       "      <td>1.0</td>\n",
       "    </tr>\n",
       "    <tr>\n",
       "      <td>75%</td>\n",
       "      <td>180000.000000</td>\n",
       "      <td>2.000000</td>\n",
       "      <td>2.000000</td>\n",
       "      <td>42.000000</td>\n",
       "      <td>2.00000</td>\n",
       "      <td>2.000000</td>\n",
       "      <td>2.000000</td>\n",
       "      <td>2.000000</td>\n",
       "      <td>2.000000</td>\n",
       "      <td>2.000000</td>\n",
       "      <td>...</td>\n",
       "      <td>60645.750000</td>\n",
       "      <td>56411.500000</td>\n",
       "      <td>55495.000000</td>\n",
       "      <td>3818.250000</td>\n",
       "      <td>3800.000000</td>\n",
       "      <td>3426.750000</td>\n",
       "      <td>3218.000000</td>\n",
       "      <td>3486.250000</td>\n",
       "      <td>3100.000000</td>\n",
       "      <td>1.0</td>\n",
       "    </tr>\n",
       "    <tr>\n",
       "      <td>max</td>\n",
       "      <td>740000.000000</td>\n",
       "      <td>6.000000</td>\n",
       "      <td>3.000000</td>\n",
       "      <td>73.000000</td>\n",
       "      <td>8.00000</td>\n",
       "      <td>7.000000</td>\n",
       "      <td>8.000000</td>\n",
       "      <td>8.000000</td>\n",
       "      <td>8.000000</td>\n",
       "      <td>8.000000</td>\n",
       "      <td>...</td>\n",
       "      <td>548020.000000</td>\n",
       "      <td>547880.000000</td>\n",
       "      <td>514975.000000</td>\n",
       "      <td>300000.000000</td>\n",
       "      <td>358689.000000</td>\n",
       "      <td>508229.000000</td>\n",
       "      <td>432130.000000</td>\n",
       "      <td>332000.000000</td>\n",
       "      <td>287982.000000</td>\n",
       "      <td>1.0</td>\n",
       "    </tr>\n",
       "  </tbody>\n",
       "</table>\n",
       "<p>8 rows × 23 columns</p>\n",
       "</div>"
      ],
      "text/plain": [
       "           LIMIT_BAL    EDUCATION     MARRIAGE          AGE       PAY_0  \\\n",
       "count    5550.000000  5550.000000  5550.000000  5550.000000  5550.00000   \n",
       "mean   122693.275676     1.910631     1.530991    35.558378     0.79009   \n",
       "std    110912.492363     0.711828     0.526496     9.658734     1.35861   \n",
       "min     10000.000000     1.000000     0.000000    21.000000    -2.00000   \n",
       "25%     50000.000000     1.000000     1.000000    28.000000     0.00000   \n",
       "50%     80000.000000     2.000000     2.000000    34.000000     1.00000   \n",
       "75%    180000.000000     2.000000     2.000000    42.000000     2.00000   \n",
       "max    740000.000000     6.000000     3.000000    73.000000     8.00000   \n",
       "\n",
       "             PAY_2        PAY_3        PAY_4        PAY_5        PAY_6  ...  \\\n",
       "count  5550.000000  5550.000000  5550.000000  5550.000000  5550.000000  ...   \n",
       "mean      0.687207     0.608649     0.531171     0.469730     0.454955  ...   \n",
       "std       1.401476     1.400897     1.413583     1.378752     1.346604  ...   \n",
       "min      -2.000000    -2.000000    -2.000000    -2.000000    -2.000000  ...   \n",
       "25%       0.000000     0.000000     0.000000     0.000000     0.000000  ...   \n",
       "50%       0.000000     0.000000     0.000000     0.000000     0.000000  ...   \n",
       "75%       2.000000     2.000000     2.000000     2.000000     2.000000  ...   \n",
       "max       7.000000     8.000000     8.000000     8.000000     8.000000  ...   \n",
       "\n",
       "           BILL_AMT4      BILL_AMT5      BILL_AMT6       PAY_AMT1  \\\n",
       "count    5550.000000    5550.000000    5550.000000    5550.000000   \n",
       "mean    49251.121802   46817.135856   45877.477477    3754.161261   \n",
       "std     67593.265342   64545.822887   62189.847870   10044.189811   \n",
       "min    -65167.000000  -30481.000000      10.000000       0.000000   \n",
       "25%      8530.750000    8538.250000    8254.000000     300.000000   \n",
       "50%     25225.000000   23428.500000   23173.000000    1972.500000   \n",
       "75%     60645.750000   56411.500000   55495.000000    3818.250000   \n",
       "max    548020.000000  547880.000000  514975.000000  300000.000000   \n",
       "\n",
       "            PAY_AMT2       PAY_AMT3       PAY_AMT4       PAY_AMT5  \\\n",
       "count    5550.000000    5550.000000    5550.000000    5550.000000   \n",
       "mean     3809.907748    3789.301261    3629.280901    3835.073514   \n",
       "std     12659.598122   13832.660953   12054.530909   12960.681681   \n",
       "min         0.000000       0.000000       0.000000       0.000000   \n",
       "25%       396.000000     349.000000     346.000000     496.000000   \n",
       "50%      1900.000000    1500.000000    1300.000000    1500.000000   \n",
       "75%      3800.000000    3426.750000    3218.000000    3486.250000   \n",
       "max    358689.000000  508229.000000  432130.000000  332000.000000   \n",
       "\n",
       "            PAY_AMT6  default payment next month  \n",
       "count    5550.000000                      5550.0  \n",
       "mean     3767.007748                         1.0  \n",
       "std     13305.136089                         0.0  \n",
       "min         0.000000                         1.0  \n",
       "25%       323.250000                         1.0  \n",
       "50%      1300.000000                         1.0  \n",
       "75%      3100.000000                         1.0  \n",
       "max    287982.000000                         1.0  \n",
       "\n",
       "[8 rows x 23 columns]"
      ]
     },
     "execution_count": 117,
     "metadata": {},
     "output_type": "execute_result"
    }
   ],
   "source": [
    "creditDefaultTrue = creditDefaultTrue[creditDefaultTrue['BILL_AMT6'] > 0]\n",
    "creditDefaultTrue.describe()"
   ]
  },
  {
   "cell_type": "code",
   "execution_count": 115,
   "metadata": {},
   "outputs": [
    {
     "data": {
      "text/plain": [
       "<seaborn.axisgrid.FacetGrid at 0x2ad1f977c48>"
      ]
     },
     "execution_count": 115,
     "metadata": {},
     "output_type": "execute_result"
    },
    {
     "data": {
      "image/png": "[encoded data removed]",
      "text/plain": [
       "<Figure size 697.25x360 with 1 Axes>"
      ]
     },
     "metadata": {
      "needs_background": "light"
     },
     "output_type": "display_data"
    }
   ],
   "source": [
    "g = sns.factorplot('default payment next month', data=creditDefaultTrue, hue='EDUCATION', kind='count', aspect=1.75)\n",
    "g.set_xlabels('Class')"
   ]
  },
  {
   "cell_type": "markdown",
   "metadata": {},
   "source": [
    "## Education and Non Defaults"
   ]
  },
  {
   "cell_type": "code",
   "execution_count": 84,
   "metadata": {},
   "outputs": [
    {
     "data": {
      "text/plain": [
       "<seaborn.axisgrid.FacetGrid at 0x2ad1fa87388>"
      ]
     },
     "execution_count": 84,
     "metadata": {},
     "output_type": "execute_result"
    },
    {
     "data": {
      "image/png": "[encoded data removed]",
      "text/plain": [
       "<Figure size 697.25x360 with 1 Axes>"
      ]
     },
     "metadata": {
      "needs_background": "light"
     },
     "output_type": "display_data"
    }
   ],
   "source": [
    "g = sns.catplot('default payment next month', data=creditDefaultFalse, hue='EDUCATION', kind='count', aspect=1.75)\n",
    "g.set_xlabels('Class')"
   ]
  },
  {
   "cell_type": "markdown",
   "metadata": {},
   "source": [
    "## Marriage Status and Defaults"
   ]
  },
  {
   "cell_type": "code",
   "execution_count": 108,
   "metadata": {},
   "outputs": [
    {
     "data": {
      "text/plain": [
       "MARRIAGE  default payment next month\n",
       "0         0                                49\n",
       "          1                                 5\n",
       "1         0                             10453\n",
       "          1                              3206\n",
       "2         0                             12623\n",
       "          1                              3341\n",
       "3         0                               239\n",
       "          1                                84\n",
       "Name: MARRIAGE, dtype: int64"
      ]
     },
     "execution_count": 108,
     "metadata": {},
     "output_type": "execute_result"
    }
   ],
   "source": [
    "creditDefault.groupby(['MARRIAGE', 'default payment next month'])['MARRIAGE'].count()"
   ]
  },
  {
   "cell_type": "code",
   "execution_count": 109,
   "metadata": {},
   "outputs": [
    {
     "data": {
      "text/plain": [
       "<seaborn.axisgrid.FacetGrid at 0x2ad205d7948>"
      ]
     },
     "execution_count": 109,
     "metadata": {},
     "output_type": "execute_result"
    },
    {
     "data": {
      "image/png": "[encoded data removed]",
      "text/plain": [
       "<Figure size 691x360 with 1 Axes>"
      ]
     },
     "metadata": {
      "needs_background": "light"
     },
     "output_type": "display_data"
    }
   ],
   "source": [
    "g = sns.factorplot('default payment next month', data=creditDefaultTrue, hue='MARRIAGE', kind='count', aspect=1.75)\n",
    "g.set_xlabels('Class')"
   ]
  },
  {
   "cell_type": "code",
   "execution_count": 110,
   "metadata": {},
   "outputs": [
    {
     "data": {
      "text/plain": [
       "<seaborn.axisgrid.FacetGrid at 0x2ad2015a908>"
      ]
     },
     "execution_count": 110,
     "metadata": {},
     "output_type": "execute_result"
    },
    {
     "data": {
      "image/png": "[encoded data removed]",
      "text/plain": [
       "<Figure size 691x360 with 1 Axes>"
      ]
     },
     "metadata": {
      "needs_background": "light"
     },
     "output_type": "display_data"
    }
   ],
   "source": [
    "g = sns.factorplot('default payment next month', data=creditDefaultFalse, hue='MARRIAGE', kind='count', aspect=1.75)\n",
    "g.set_xlabels('Class')"
   ]
  },
  {
   "cell_type": "markdown",
   "metadata": {},
   "source": [
    "## Bill Amount 1 Boxplot"
   ]
  },
  {
   "cell_type": "code",
   "execution_count": 62,
   "metadata": {},
   "outputs": [
    {
     "data": {
      "image/png": "[encoded data removed]",
      "text/plain": [
       "<Figure size 432x288 with 1 Axes>"
      ]
     },
     "metadata": {
      "needs_background": "light"
     },
     "output_type": "display_data"
    }
   ],
   "source": [
    "A = creditDefault['BILL_AMT1']\n",
    "plt.boxplot(A,0,'gD')\n",
    "plt.show()"
   ]
  },
  {
   "cell_type": "markdown",
   "metadata": {},
   "source": [
    "## Correlation"
   ]
  },
  {
   "cell_type": "code",
   "execution_count": 111,
   "metadata": {},
   "outputs": [
    {
     "name": "stdout",
     "output_type": "stream",
     "text": [
      "                            LIMIT_BAL  EDUCATION  MARRIAGE       AGE  \\\n",
      "LIMIT_BAL                    1.000000  -0.219161 -0.108139  0.144713   \n",
      "EDUCATION                   -0.219161   1.000000 -0.143464  0.175061   \n",
      "MARRIAGE                    -0.108139  -0.143464  1.000000 -0.414170   \n",
      "AGE                          0.144713   0.175061 -0.414170  1.000000   \n",
      "PAY_0                       -0.271214   0.105364  0.019917 -0.039447   \n",
      "PAY_2                       -0.296382   0.121566  0.024199 -0.050148   \n",
      "PAY_3                       -0.286123   0.114025  0.032688 -0.053048   \n",
      "PAY_4                       -0.267460   0.108793  0.033122 -0.049722   \n",
      "PAY_5                       -0.249411   0.097520  0.035629 -0.053826   \n",
      "PAY_6                       -0.235195   0.082316  0.034345 -0.048773   \n",
      "BILL_AMT1                    0.285430   0.023581 -0.023472  0.056239   \n",
      "BILL_AMT2                    0.278314   0.018749 -0.021602  0.054283   \n",
      "BILL_AMT3                    0.283236   0.013002 -0.024909  0.053710   \n",
      "BILL_AMT4                    0.293988  -0.000451 -0.023344  0.051353   \n",
      "BILL_AMT5                    0.295562  -0.007567 -0.025393  0.049345   \n",
      "BILL_AMT6                    0.290389  -0.009099 -0.021207  0.047613   \n",
      "PAY_AMT1                     0.195236  -0.037456 -0.005979  0.026147   \n",
      "PAY_AMT2                     0.178408  -0.030038 -0.008093  0.021785   \n",
      "PAY_AMT3                     0.210167  -0.039943 -0.003541  0.029247   \n",
      "PAY_AMT4                     0.203242  -0.038218 -0.012659  0.021379   \n",
      "PAY_AMT5                     0.217202  -0.040358 -0.001205  0.022850   \n",
      "PAY_AMT6                     0.219595  -0.037200 -0.006641  0.019478   \n",
      "default payment next month  -0.153520   0.028006 -0.024339  0.013890   \n",
      "\n",
      "                               PAY_0     PAY_2     PAY_3     PAY_4     PAY_5  \\\n",
      "LIMIT_BAL                  -0.271214 -0.296382 -0.286123 -0.267460 -0.249411   \n",
      "EDUCATION                   0.105364  0.121566  0.114025  0.108793  0.097520   \n",
      "MARRIAGE                    0.019917  0.024199  0.032688  0.033122  0.035629   \n",
      "AGE                        -0.039447 -0.050148 -0.053048 -0.049722 -0.053826   \n",
      "PAY_0                       1.000000  0.672164  0.574245  0.538841  0.509426   \n",
      "PAY_2                       0.672164  1.000000  0.766552  0.662067  0.622780   \n",
      "PAY_3                       0.574245  0.766552  1.000000  0.777359  0.686775   \n",
      "PAY_4                       0.538841  0.662067  0.777359  1.000000  0.819835   \n",
      "PAY_5                       0.509426  0.622780  0.686775  0.819835  1.000000   \n",
      "PAY_6                       0.474553  0.575501  0.632684  0.716449  0.816900   \n",
      "BILL_AMT1                   0.187068  0.234887  0.208473  0.202812  0.206684   \n",
      "BILL_AMT2                   0.189859  0.235257  0.237295  0.225816  0.226913   \n",
      "BILL_AMT3                   0.179785  0.224146  0.227494  0.244983  0.243335   \n",
      "BILL_AMT4                   0.179125  0.222237  0.227202  0.245917  0.271915   \n",
      "BILL_AMT5                   0.180635  0.221348  0.225145  0.242902  0.269783   \n",
      "BILL_AMT6                   0.176980  0.219403  0.222327  0.239154  0.262509   \n",
      "PAY_AMT1                   -0.079269 -0.080701  0.001295 -0.009362 -0.006089   \n",
      "PAY_AMT2                   -0.070101 -0.058990 -0.066793 -0.001944 -0.003191   \n",
      "PAY_AMT3                   -0.070561 -0.055901 -0.053311 -0.069235  0.009062   \n",
      "PAY_AMT4                   -0.064005 -0.046858 -0.046067 -0.043461 -0.058299   \n",
      "PAY_AMT5                   -0.058190 -0.037093 -0.035863 -0.033590 -0.033337   \n",
      "PAY_AMT6                   -0.058673 -0.036500 -0.035861 -0.026565 -0.023027   \n",
      "default payment next month  0.324794  0.263551  0.235253  0.216614  0.204149   \n",
      "\n",
      "                               PAY_6  ...  BILL_AMT4  BILL_AMT5  BILL_AMT6  \\\n",
      "LIMIT_BAL                  -0.235195  ...   0.293988   0.295562   0.290389   \n",
      "EDUCATION                   0.082316  ...  -0.000451  -0.007567  -0.009099   \n",
      "MARRIAGE                    0.034345  ...  -0.023344  -0.025393  -0.021207   \n",
      "AGE                        -0.048773  ...   0.051353   0.049345   0.047613   \n",
      "PAY_0                       0.474553  ...   0.179125   0.180635   0.176980   \n",
      "PAY_2                       0.575501  ...   0.222237   0.221348   0.219403   \n",
      "PAY_3                       0.632684  ...   0.227202   0.225145   0.222327   \n",
      "PAY_4                       0.716449  ...   0.245917   0.242902   0.239154   \n",
      "PAY_5                       0.816900  ...   0.271915   0.269783   0.262509   \n",
      "PAY_6                       1.000000  ...   0.266356   0.290894   0.285091   \n",
      "BILL_AMT1                   0.207373  ...   0.860272   0.829779   0.802650   \n",
      "BILL_AMT2                   0.226924  ...   0.892482   0.859778   0.831594   \n",
      "BILL_AMT3                   0.241181  ...   0.923969   0.883910   0.853320   \n",
      "BILL_AMT4                   0.266356  ...   1.000000   0.940134   0.900941   \n",
      "BILL_AMT5                   0.290894  ...   0.940134   1.000000   0.946197   \n",
      "BILL_AMT6                   0.285091  ...   0.900941   0.946197   1.000000   \n",
      "PAY_AMT1                   -0.001496  ...   0.233012   0.217031   0.199965   \n",
      "PAY_AMT2                   -0.005223  ...   0.207564   0.181246   0.172663   \n",
      "PAY_AMT3                    0.005834  ...   0.300023   0.252305   0.233770   \n",
      "PAY_AMT4                    0.019018  ...   0.130191   0.293118   0.250237   \n",
      "PAY_AMT5                   -0.046434  ...   0.160433   0.141574   0.307729   \n",
      "PAY_AMT6                   -0.025299  ...   0.177637   0.164184   0.115494   \n",
      "default payment next month  0.186866  ...  -0.010156  -0.006760  -0.005372   \n",
      "\n",
      "                            PAY_AMT1  PAY_AMT2  PAY_AMT3  PAY_AMT4  PAY_AMT5  \\\n",
      "LIMIT_BAL                   0.195236  0.178408  0.210167  0.203242  0.217202   \n",
      "EDUCATION                  -0.037456 -0.030038 -0.039943 -0.038218 -0.040358   \n",
      "MARRIAGE                   -0.005979 -0.008093 -0.003541 -0.012659 -0.001205   \n",
      "AGE                         0.026147  0.021785  0.029247  0.021379  0.022850   \n",
      "PAY_0                      -0.079269 -0.070101 -0.070561 -0.064005 -0.058190   \n",
      "PAY_2                      -0.080701 -0.058990 -0.055901 -0.046858 -0.037093   \n",
      "PAY_3                       0.001295 -0.066793 -0.053311 -0.046067 -0.035863   \n",
      "PAY_4                      -0.009362 -0.001944 -0.069235 -0.043461 -0.033590   \n",
      "PAY_5                      -0.006089 -0.003191  0.009062 -0.058299 -0.033337   \n",
      "PAY_6                      -0.001496 -0.005223  0.005834  0.019018 -0.046434   \n",
      "BILL_AMT1                   0.140277  0.099355  0.156887  0.158303  0.167026   \n",
      "BILL_AMT2                   0.280365  0.100851  0.150718  0.147398  0.157957   \n",
      "BILL_AMT3                   0.244335  0.316936  0.130011  0.143405  0.179712   \n",
      "BILL_AMT4                   0.233012  0.207564  0.300023  0.130191  0.160433   \n",
      "BILL_AMT5                   0.217031  0.181246  0.252305  0.293118  0.141574   \n",
      "BILL_AMT6                   0.199965  0.172663  0.233770  0.250237  0.307729   \n",
      "PAY_AMT1                    1.000000  0.285576  0.252191  0.199558  0.148459   \n",
      "PAY_AMT2                    0.285576  1.000000  0.244770  0.180107  0.180908   \n",
      "PAY_AMT3                    0.252191  0.244770  1.000000  0.216325  0.159214   \n",
      "PAY_AMT4                    0.199558  0.180107  0.216325  1.000000  0.151830   \n",
      "PAY_AMT5                    0.148459  0.180908  0.159214  0.151830  1.000000   \n",
      "PAY_AMT6                    0.185735  0.157634  0.162740  0.157834  0.154896   \n",
      "default payment next month -0.072929 -0.058579 -0.056250 -0.056827 -0.055124   \n",
      "\n",
      "                            PAY_AMT6  default payment next month  \n",
      "LIMIT_BAL                   0.219595                   -0.153520  \n",
      "EDUCATION                  -0.037200                    0.028006  \n",
      "MARRIAGE                   -0.006641                   -0.024339  \n",
      "AGE                         0.019478                    0.013890  \n",
      "PAY_0                      -0.058673                    0.324794  \n",
      "PAY_2                      -0.036500                    0.263551  \n",
      "PAY_3                      -0.035861                    0.235253  \n",
      "PAY_4                      -0.026565                    0.216614  \n",
      "PAY_5                      -0.023027                    0.204149  \n",
      "PAY_6                      -0.025299                    0.186866  \n",
      "BILL_AMT1                   0.179341                   -0.019644  \n",
      "BILL_AMT2                   0.174256                   -0.014193  \n",
      "BILL_AMT3                   0.182326                   -0.014076  \n",
      "BILL_AMT4                   0.177637                   -0.010156  \n",
      "BILL_AMT5                   0.164184                   -0.006760  \n",
      "BILL_AMT6                   0.115494                   -0.005372  \n",
      "PAY_AMT1                    0.185735                   -0.072929  \n",
      "PAY_AMT2                    0.157634                   -0.058579  \n",
      "PAY_AMT3                    0.162740                   -0.056250  \n",
      "PAY_AMT4                    0.157834                   -0.056827  \n",
      "PAY_AMT5                    0.154896                   -0.055124  \n",
      "PAY_AMT6                    1.000000                   -0.053183  \n",
      "default payment next month -0.053183                    1.000000  \n",
      "\n",
      "[23 rows x 23 columns]\n"
     ]
    }
   ],
   "source": [
    "corrMat = creditDefault.corr()\n",
    "print(corrMat)"
   ]
  },
  {
   "cell_type": "markdown",
   "metadata": {},
   "source": [
    "## Covariance"
   ]
  },
  {
   "cell_type": "code",
   "execution_count": 93,
   "metadata": {},
   "outputs": [
    {
     "name": "stdout",
     "output_type": "stream",
     "text": [
      "                               LIMIT_BAL     EDUCATION     MARRIAGE  \\\n",
      "LIMIT_BAL                   1.683446e+10 -22474.028945 -7323.669658   \n",
      "EDUCATION                  -2.247403e+04      0.624651    -0.059184   \n",
      "MARRIAGE                   -7.323670e+03     -0.059184     0.272452   \n",
      "AGE                         1.730767e+05      1.275380    -1.992764   \n",
      "PAY_0                      -3.954593e+04      0.093584     0.011683   \n",
      "PAY_2                      -4.603765e+04      0.115025     0.015122   \n",
      "PAY_3                      -4.443225e+04      0.107861     0.020421   \n",
      "PAY_4                      -4.057181e+04      0.100528     0.020213   \n",
      "PAY_5                      -3.667056e+04      0.087340     0.021074   \n",
      "PAY_6                      -3.509308e+04      0.074816     0.020616   \n",
      "BILL_AMT1                   2.727020e+09   1372.377644  -902.154685   \n",
      "BILL_AMT2                   2.570130e+09   1054.657595  -802.517866   \n",
      "BILL_AMT3                   2.548533e+09    712.664124  -901.679085   \n",
      "BILL_AMT4                   2.453926e+09    -22.948827  -783.881599   \n",
      "BILL_AMT5                   2.331481e+09   -363.577664  -805.840875   \n",
      "BILL_AMT6                   2.243837e+09   -428.274232  -659.223347   \n",
      "PAY_AMT1                    4.195711e+08   -490.330155   -51.691615   \n",
      "PAY_AMT2                    5.333504e+08   -547.005021   -97.327974   \n",
      "PAY_AMT3                    4.801180e+08   -555.834305   -32.546082   \n",
      "PAY_AMT4                    4.131202e+08   -473.206951  -103.518204   \n",
      "PAY_AMT5                    4.305657e+08   -487.335947    -9.607709   \n",
      "PAY_AMT6                    5.065153e+08   -522.673379   -61.623271   \n",
      "default payment next month -8.267552e+03      0.009187    -0.005273   \n",
      "\n",
      "                                      AGE         PAY_0         PAY_2  \\\n",
      "LIMIT_BAL                   173076.722569 -39545.930009 -46037.648360   \n",
      "EDUCATION                        1.275380      0.093584      0.115025   \n",
      "MARRIAGE                        -1.992764      0.011683      0.015122   \n",
      "AGE                             84.969755     -0.408639     -0.553408   \n",
      "PAY_0                           -0.408639      1.262930      0.904330   \n",
      "PAY_2                           -0.553408      0.904330      1.433254   \n",
      "PAY_3                           -0.585263      0.772384      1.098371   \n",
      "PAY_4                           -0.535851      0.707972      0.926680   \n",
      "PAY_5                           -0.562245      0.648743      0.844886   \n",
      "PAY_6                           -0.517022      0.613292      0.792320   \n",
      "BILL_AMT1                    38172.933546  15480.304170  20706.614217   \n",
      "BILL_AMT2                    35613.657962  15185.916919  20045.829482   \n",
      "BILL_AMT3                    34334.251320  14011.556537  18609.510991   \n",
      "BILL_AMT4                    30453.108180  12950.248389  17116.298983   \n",
      "BILL_AMT5                    27654.067800  12341.668685  16110.952468   \n",
      "BILL_AMT6                    26137.648547  11844.759724  15642.875812   \n",
      "PAY_AMT1                      3992.041735  -1475.495089  -1600.240756   \n",
      "PAY_AMT2                      4626.861549  -1815.138407  -1627.192336   \n",
      "PAY_AMT3                      4746.824393  -1396.168258  -1178.331282   \n",
      "PAY_AMT4                      3087.324192  -1126.847945   -878.843879   \n",
      "PAY_AMT5                      3218.052172   -999.107730   -678.468530   \n",
      "PAY_AMT6                      3191.903901  -1172.193614   -776.835035   \n",
      "default payment next month       0.053143      0.151499      0.130960   \n",
      "\n",
      "                                   PAY_3         PAY_4         PAY_5  \\\n",
      "LIMIT_BAL                  -44432.253315 -40571.811859 -36670.562325   \n",
      "EDUCATION                       0.107861      0.100528      0.087340   \n",
      "MARRIAGE                        0.020421      0.020213      0.021074   \n",
      "AGE                            -0.585263     -0.535851     -0.562245   \n",
      "PAY_0                           0.772384      0.707972      0.648743   \n",
      "PAY_2                           1.098371      0.926680      0.844886   \n",
      "PAY_3                           1.432492      1.087761      0.931455   \n",
      "PAY_4                           1.087761      1.366885      1.086161   \n",
      "PAY_5                           0.931455      1.086161      1.284114   \n",
      "PAY_6                           0.870815      0.963263      1.064545   \n",
      "BILL_AMT1                   18373.210469  17460.198259  17246.377531   \n",
      "BILL_AMT2                   20214.071495  18790.627741  18301.285286   \n",
      "BILL_AMT3                   18882.491544  19862.999426  19122.663330   \n",
      "BILL_AMT4                   17494.100555  18496.423186  19822.925512   \n",
      "BILL_AMT5                   16382.947539  17265.551898  18586.590324   \n",
      "BILL_AMT6                   15847.089648  16651.586314  17715.690075   \n",
      "PAY_AMT1                       25.668468   -181.295613   -114.281714   \n",
      "PAY_AMT2                    -1841.952825    -52.358166    -83.324487   \n",
      "PAY_AMT3                    -1123.428782  -1425.205189    180.812142   \n",
      "PAY_AMT4                     -863.762183   -796.035739  -1034.961970   \n",
      "PAY_AMT5                     -655.796002   -599.991629   -577.161017   \n",
      "PAY_AMT6                     -763.026041   -552.137338   -463.892613   \n",
      "default payment next month      0.116867      0.105115      0.096020   \n",
      "\n",
      "                                   PAY_6  ...     BILL_AMT4     BILL_AMT5  \\\n",
      "LIMIT_BAL                  -35093.083441  ...  2.453926e+09  2.331481e+09   \n",
      "EDUCATION                       0.074816  ... -2.294883e+01 -3.635777e+02   \n",
      "MARRIAGE                        0.020616  ... -7.838816e+02 -8.058409e+02   \n",
      "AGE                            -0.517022  ...  3.045311e+04  2.765407e+04   \n",
      "PAY_0                           0.613292  ...  1.295025e+04  1.234167e+04   \n",
      "PAY_2                           0.792320  ...  1.711630e+04  1.611095e+04   \n",
      "PAY_3                           0.870815  ...  1.749410e+04  1.638295e+04   \n",
      "PAY_4                           0.963263  ...  1.849642e+04  1.726555e+04   \n",
      "PAY_5                           1.064545  ...  1.982293e+04  1.858659e+04   \n",
      "PAY_6                           1.322472  ...  1.970555e+04  2.033812e+04   \n",
      "BILL_AMT1                   17560.424872  ...  4.075286e+09  3.714795e+09   \n",
      "BILL_AMT2                   18573.527165  ...  4.086508e+09  3.720401e+09   \n",
      "BILL_AMT3                   19234.422476  ...  4.122238e+09  3.726780e+09   \n",
      "BILL_AMT4                   19705.551629  ...  4.138716e+09  3.677105e+09   \n",
      "BILL_AMT5                   20338.120325  ...  3.677105e+09  3.696294e+09   \n",
      "BILL_AMT6                   19524.880348  ...  3.451762e+09  3.425914e+09   \n",
      "PAY_AMT1                      -28.500666  ...  2.482888e+08  2.185501e+08   \n",
      "PAY_AMT2                     -138.399452  ...  3.076686e+08  2.538936e+08   \n",
      "PAY_AMT3                      118.121022  ...  3.398374e+08  2.700805e+08   \n",
      "PAY_AMT4                      342.623730  ...  1.312133e+08  2.791830e+08   \n",
      "PAY_AMT5                     -815.832688  ...  1.576892e+08  1.315051e+08   \n",
      "PAY_AMT6                     -517.216277  ...  2.031590e+08  1.774537e+08   \n",
      "default payment next month      0.089194  ... -2.711999e+02 -1.705974e+02   \n",
      "\n",
      "                               BILL_AMT6      PAY_AMT1      PAY_AMT2  \\\n",
      "LIMIT_BAL                   2.243837e+09  4.195711e+08  5.333504e+08   \n",
      "EDUCATION                  -4.282742e+02 -4.903302e+02 -5.470050e+02   \n",
      "MARRIAGE                   -6.592233e+02 -5.169161e+01 -9.732797e+01   \n",
      "AGE                         2.613765e+04  3.992042e+03  4.626862e+03   \n",
      "PAY_0                       1.184476e+04 -1.475495e+03 -1.815138e+03   \n",
      "PAY_2                       1.564288e+04 -1.600241e+03 -1.627192e+03   \n",
      "PAY_3                       1.584709e+04  2.566847e+01 -1.841953e+03   \n",
      "PAY_4                       1.665159e+04 -1.812956e+02 -5.235817e+01   \n",
      "PAY_5                       1.771569e+04 -1.142817e+02 -8.332449e+01   \n",
      "PAY_6                       1.952488e+04 -2.850067e+01 -1.383995e+02   \n",
      "BILL_AMT1                   3.519876e+09  1.710894e+08  1.685692e+08   \n",
      "BILL_AMT2                   3.524868e+09  3.305146e+08  1.653859e+08   \n",
      "BILL_AMT3                   3.524247e+09  2.806565e+08  5.064226e+08   \n",
      "BILL_AMT4                   3.451762e+09  2.482888e+08  3.076686e+08   \n",
      "BILL_AMT5                   3.425914e+09  2.185501e+08  2.538936e+08   \n",
      "BILL_AMT6                   3.546692e+09  1.972478e+08  2.369244e+08   \n",
      "PAY_AMT1                    1.972478e+08  2.743423e+08  1.089849e+08   \n",
      "PAY_AMT2                    2.369244e+08  1.089849e+08  5.308817e+08   \n",
      "PAY_AMT3                    2.451233e+08  7.354626e+07  9.929841e+07   \n",
      "PAY_AMT4                    2.334670e+08  5.178189e+07  6.501168e+07   \n",
      "PAY_AMT5                    2.799982e+08  3.756893e+07  6.368414e+07   \n",
      "PAY_AMT6                    1.222761e+08  5.469033e+07  6.456816e+07   \n",
      "default payment next month -1.327963e+02 -5.013746e+02 -5.602107e+02   \n",
      "\n",
      "                                PAY_AMT3      PAY_AMT4      PAY_AMT5  \\\n",
      "LIMIT_BAL                   4.801180e+08  4.131202e+08  4.305657e+08   \n",
      "EDUCATION                  -5.558343e+02 -4.732070e+02 -4.873359e+02   \n",
      "MARRIAGE                   -3.254608e+01 -1.035182e+02 -9.607709e+00   \n",
      "AGE                         4.746824e+03  3.087324e+03  3.218052e+03   \n",
      "PAY_0                      -1.396168e+03 -1.126848e+03 -9.991077e+02   \n",
      "PAY_2                      -1.178331e+03 -8.788439e+02 -6.784685e+02   \n",
      "PAY_3                      -1.123429e+03 -8.637622e+02 -6.557960e+02   \n",
      "PAY_4                      -1.425205e+03 -7.960357e+02 -5.999916e+02   \n",
      "PAY_5                       1.808121e+02 -1.034962e+03 -5.771610e+02   \n",
      "PAY_6                       1.181210e+02  3.426237e+02 -8.158327e+02   \n",
      "BILL_AMT1                   2.034048e+08  1.826164e+08  1.879091e+08   \n",
      "BILL_AMT2                   1.888731e+08  1.643518e+08  1.717652e+08   \n",
      "BILL_AMT3                   1.587478e+08  1.558003e+08  1.904126e+08   \n",
      "BILL_AMT4                   3.398374e+08  1.312133e+08  1.576892e+08   \n",
      "BILL_AMT5                   2.700805e+08  2.791830e+08  1.315051e+08   \n",
      "BILL_AMT6                   2.451233e+08  2.334670e+08  2.799982e+08   \n",
      "PAY_AMT1                    7.354626e+07  5.178189e+07  3.756893e+07   \n",
      "PAY_AMT2                    9.929841e+07  6.501168e+07  6.368414e+07   \n",
      "PAY_AMT3                    3.100051e+08  5.966970e+07  4.282921e+07   \n",
      "PAY_AMT4                    5.966970e+07  2.454286e+08  3.634098e+07   \n",
      "PAY_AMT5                    4.282921e+07  3.634098e+07  2.334266e+08   \n",
      "PAY_AMT6                    5.093879e+07  4.395747e+07  4.207110e+07   \n",
      "default payment next month -4.110763e+02 -3.695159e+02 -3.495625e+02   \n",
      "\n",
      "                                PAY_AMT6  default payment next month  \n",
      "LIMIT_BAL                   5.065153e+08                -8267.551759  \n",
      "EDUCATION                  -5.226734e+02                    0.009187  \n",
      "MARRIAGE                   -6.162327e+01                   -0.005273  \n",
      "AGE                         3.191904e+03                    0.053143  \n",
      "PAY_0                      -1.172194e+03                    0.151499  \n",
      "PAY_2                      -7.768350e+02                    0.130960  \n",
      "PAY_3                      -7.630260e+02                    0.116867  \n",
      "PAY_4                      -5.521373e+02                    0.105115  \n",
      "PAY_5                      -4.638926e+02                    0.096020  \n",
      "PAY_6                      -5.172163e+02                    0.089194  \n",
      "BILL_AMT1                   2.347681e+08                 -600.394108  \n",
      "BILL_AMT2                   2.204845e+08                 -419.289137  \n",
      "BILL_AMT3                   2.247817e+08                 -405.153680  \n",
      "BILL_AMT4                   2.031590e+08                 -271.199885  \n",
      "BILL_AMT5                   1.774537e+08                 -170.597447  \n",
      "BILL_AMT6                   1.222761e+08                 -132.796294  \n",
      "PAY_AMT1                    5.469033e+07                 -501.374552  \n",
      "PAY_AMT2                    6.456816e+07                 -560.210740  \n",
      "PAY_AMT3                    5.093879e+07                 -411.076284  \n",
      "PAY_AMT4                    4.395747e+07                 -369.515887  \n",
      "PAY_AMT5                    4.207110e+07                 -349.562530  \n",
      "PAY_AMT6                    3.160383e+08                 -392.426415  \n",
      "default payment next month -3.924264e+02                    0.172276  \n",
      "\n",
      "[23 rows x 23 columns]\n"
     ]
    }
   ],
   "source": [
    "covMat = creditDefault.cov()\n",
    "print(covMat)"
   ]
  },
  {
   "cell_type": "markdown",
   "metadata": {},
   "source": [
    "## Exploration of Bill Amounts and Pay Amounts of Defaulted Accounts"
   ]
  },
  {
   "cell_type": "code",
   "execution_count": 112,
   "metadata": {},
   "outputs": [
    {
     "data": {
      "image/png": "[encoded data removed]",
      "text/plain": [
       "<Figure size 432x288 with 1 Axes>"
      ]
     },
     "metadata": {
      "needs_background": "light"
     },
     "output_type": "display_data"
    }
   ],
   "source": [
    "x = creditDefaultTrue['BILL_AMT1']\n",
    "y = creditDefaultTrue['PAY_AMT1']\n",
    "plt.scatter(x,y)\n",
    "plt.show()"
   ]
  },
  {
   "cell_type": "code",
   "execution_count": 73,
   "metadata": {},
   "outputs": [
    {
     "data": {
      "image/png": "[encoded data removed]",
      "text/plain": [
       "<Figure size 432x288 with 1 Axes>"
      ]
     },
     "metadata": {
      "needs_background": "light"
     },
     "output_type": "display_data"
    }
   ],
   "source": [
    "x = creditDefaultTrue['BILL_AMT2']\n",
    "y = creditDefaultTrue['PAY_AMT2']\n",
    "plt.scatter(x,y)\n",
    "plt.show()"
   ]
  },
  {
   "cell_type": "code",
   "execution_count": 75,
   "metadata": {},
   "outputs": [
    {
     "data": {
      "image/png": "[encoded data removed]",
      "text/plain": [
       "<Figure size 432x288 with 1 Axes>"
      ]
     },
     "metadata": {
      "needs_background": "light"
     },
     "output_type": "display_data"
    }
   ],
   "source": [
    "x = creditDefaultTrue['BILL_AMT3']\n",
    "y = creditDefaultTrue['PAY_AMT3']\n",
    "plt.scatter(x,y)\n",
    "plt.show()"
   ]
  },
  {
   "cell_type": "code",
   "execution_count": 76,
   "metadata": {},
   "outputs": [
    {
     "data": {
      "image/png": "[encoded data removed]",
      "text/plain": [
       "<Figure size 432x288 with 1 Axes>"
      ]
     },
     "metadata": {
      "needs_background": "light"
     },
     "output_type": "display_data"
    }
   ],
   "source": [
    "x = creditDefaultTrue['BILL_AMT4']\n",
    "y = creditDefaultTrue['PAY_AMT4']\n",
    "plt.scatter(x,y)\n",
    "plt.show()"
   ]
  },
  {
   "cell_type": "code",
   "execution_count": 77,
   "metadata": {},
   "outputs": [
    {
     "data": {
      "image/png": "[encoded data removed]",
      "text/plain": [
       "<Figure size 432x288 with 1 Axes>"
      ]
     },
     "metadata": {
      "needs_background": "light"
     },
     "output_type": "display_data"
    }
   ],
   "source": [
    "x = creditDefaultTrue['BILL_AMT5']\n",
    "y = creditDefaultTrue['PAY_AMT5']\n",
    "plt.scatter(x,y)\n",
    "plt.show()"
   ]
  },
  {
   "cell_type": "code",
   "execution_count": 78,
   "metadata": {},
   "outputs": [
    {
     "data": {
      "image/png": "[encoded data removed]",
      "text/plain": [
       "<Figure size 432x288 with 1 Axes>"
      ]
     },
     "metadata": {
      "needs_background": "light"
     },
     "output_type": "display_data"
    }
   ],
   "source": [
    "x = creditDefaultTrue['BILL_AMT6']\n",
    "y = creditDefaultTrue['PAY_AMT6']\n",
    "plt.scatter(x,y)\n",
    "plt.show()"
   ]
  },
  {
   "cell_type": "markdown",
   "metadata": {},
   "source": [
    "## Defaulted  Accounts Limits"
   ]
  },
  {
   "cell_type": "code",
   "execution_count": 80,
   "metadata": {},
   "outputs": [
    {
     "data": {
      "image/png": "[encoded data removed]",
      "text/plain": [
       "<Figure size 432x288 with 1 Axes>"
      ]
     },
     "metadata": {
      "needs_background": "light"
     },
     "output_type": "display_data"
    }
   ],
   "source": [
    "A = creditDefaultTrue['LIMIT_BAL']\n",
    "plt.boxplot(A,0,'gD')\n",
    "plt.show()"
   ]
  },
  {
   "cell_type": "markdown",
   "metadata": {},
   "source": [
    "## Non-Defaulted Account Limits"
   ]
  },
  {
   "cell_type": "code",
   "execution_count": 82,
   "metadata": {},
   "outputs": [
    {
     "data": {
      "image/png": "[encoded data removed]",
      "text/plain": [
       "<Figure size 432x288 with 1 Axes>"
      ]
     },
     "metadata": {
      "needs_background": "light"
     },
     "output_type": "display_data"
    }
   ],
   "source": [
    "creditDefaultFalse = creditDefault[creditDefault['default payment next month'] == 0]\n",
    "A = creditDefaultFalse['LIMIT_BAL']\n",
    "plt.boxplot(A,0,'gD')\n",
    "plt.show()"
   ]
  },
  {
   "cell_type": "markdown",
   "metadata": {},
   "source": [
    "## Distribution of Age in Defaulted and then Non Defaulted Accounts"
   ]
  },
  {
   "cell_type": "code",
   "execution_count": 95,
   "metadata": {},
   "outputs": [
    {
     "data": {
      "text/plain": [
       "Text(0.5, 1.0, \"Distribution of Default Customers' Ages\")"
      ]
     },
     "execution_count": 95,
     "metadata": {},
     "output_type": "execute_result"
    },
    {
     "data": {
      "image/png": "[encoded data removed]",
      "text/plain": [
       "<Figure size 432x288 with 1 Axes>"
      ]
     },
     "metadata": {
      "needs_background": "light"
     },
     "output_type": "display_data"
    }
   ],
   "source": [
    "ageDefault = creditDefaultTrue['AGE']\n",
    "age_dist = sns.distplot(ageDefault, bins = 8)\n",
    "age_dist.set_title(\"Distribution of Default Customers' Ages\")"
   ]
  },
  {
   "cell_type": "code",
   "execution_count": 96,
   "metadata": {},
   "outputs": [
    {
     "data": {
      "text/plain": [
       "Text(0.5, 1.0, \"Distribution of Paid Customers' Ages\")"
      ]
     },
     "execution_count": 96,
     "metadata": {},
     "output_type": "execute_result"
    },
    {
     "data": {
      "image/png": "[encoded data removed]",
      "text/plain": [
       "<Figure size 432x288 with 1 Axes>"
      ]
     },
     "metadata": {
      "needs_background": "light"
     },
     "output_type": "display_data"
    }
   ],
   "source": [
    "ageDefaultFalse = creditDefaultFalse['AGE']\n",
    "age_dist = sns.distplot(ageDefaultFalse, bins = 8)\n",
    "age_dist.set_title(\"Distribution of Paid Customers' Ages\")"
   ]
  },
  {
   "cell_type": "markdown",
   "metadata": {},
   "source": [
    "# Education Distributions"
   ]
  },
  {
   "cell_type": "code",
   "execution_count": 97,
   "metadata": {},
   "outputs": [
    {
     "data": {
      "text/plain": [
       "Text(0.5, 1.0, \"Distribution of Default Customers' Education Levels\")"
      ]
     },
     "execution_count": 97,
     "metadata": {},
     "output_type": "execute_result"
    },
    {
     "data": {
      "image/png": "[encoded data removed]",
      "text/plain": [
       "<Figure size 432x288 with 1 Axes>"
      ]
     },
     "metadata": {
      "needs_background": "light"
     },
     "output_type": "display_data"
    }
   ],
   "source": [
    "educationDefault = creditDefaultTrue['EDUCATION']\n",
    "educ_dist = sns.distplot(educationDefault)\n",
    "educ_dist.set_title(\"Distribution of Default Customers' Education Levels\")"
   ]
  },
  {
   "cell_type": "code",
   "execution_count": 98,
   "metadata": {},
   "outputs": [
    {
     "data": {
      "text/plain": [
       "Text(0.5, 1.0, \"Distribution of Paid Customers' Education Levels\")"
      ]
     },
     "execution_count": 98,
     "metadata": {},
     "output_type": "execute_result"
    },
    {
     "data": {
      "image/png": "[encoded data removed]",
      "text/plain": [
       "<Figure size 432x288 with 1 Axes>"
      ]
     },
     "metadata": {
      "needs_background": "light"
     },
     "output_type": "display_data"
    }
   ],
   "source": [
    "educationPaid = creditDefaultFalse['EDUCATION']\n",
    "educ_dist = sns.distplot(educationPaid)\n",
    "educ_dist.set_title(\"Distribution of Paid Customers' Education Levels\")"
   ]
  },
  {
   "cell_type": "markdown",
   "metadata": {},
   "source": [
    "## Limit Distributions"
   ]
  },
  {
   "cell_type": "code",
   "execution_count": 101,
   "metadata": {},
   "outputs": [
    {
     "data": {
      "text/plain": [
       "Text(0.5, 1.0, \"Distribution of Defaulted Customers' Limits\")"
      ]
     },
     "execution_count": 101,
     "metadata": {},
     "output_type": "execute_result"
    },
    {
     "data": {
      "image/png": "[encoded data removed]",
      "text/plain": [
       "<Figure size 432x288 with 1 Axes>"
      ]
     },
     "metadata": {
      "needs_background": "light"
     },
     "output_type": "display_data"
    }
   ],
   "source": [
    "limDefault = creditDefaultTrue['LIMIT_BAL']\n",
    "lim_dist = sns.distplot(limDefault, bins = 8)\n",
    "lim_dist.set_title(\"Distribution of Defaulted Customers' Limits\")"
   ]
  },
  {
   "cell_type": "code",
   "execution_count": 102,
   "metadata": {},
   "outputs": [
    {
     "data": {
      "text/plain": [
       "Text(0.5, 1.0, \"Distribution of Paid Customers' Limits\")"
      ]
     },
     "execution_count": 102,
     "metadata": {},
     "output_type": "execute_result"
    },
    {
     "data": {
      "image/png": "[encoded data removed]",
      "text/plain": [
       "<Figure size 432x288 with 1 Axes>"
      ]
     },
     "metadata": {
      "needs_background": "light"
     },
     "output_type": "display_data"
    }
   ],
   "source": [
    "limPaid = creditDefaultFalse['LIMIT_BAL']\n",
    "lim_dist = sns.distplot(limPaid, bins = 8)\n",
    "lim_dist.set_title(\"Distribution of Paid Customers' Limits\")"
   ]
  },
  {
   "cell_type": "markdown",
   "metadata": {},
   "source": [
    "## Bill Amount 6 Distribution Defaulted Customers"
   ]
  },
  {
   "cell_type": "code",
   "execution_count": 120,
   "metadata": {},
   "outputs": [
    {
     "data": {
      "text/plain": [
       "Text(0.5, 1.0, 'Final Bill Amount')"
      ]
     },
     "execution_count": 120,
     "metadata": {},
     "output_type": "execute_result"
    },
    {
     "data": {
      "image/png": "[encoded data removed]",
      "text/plain": [
       "<Figure size 432x288 with 1 Axes>"
      ]
     },
     "metadata": {
      "needs_background": "light"
     },
     "output_type": "display_data"
    }
   ],
   "source": [
    "finalBill = creditDefaultTrue['BILL_AMT6']\n",
    "bill_dist = sns.distplot(finalBill, bins = 8)\n",
    "bill_dist.set_title(\"Final Bill Amount\")"
   ]
  },
  {
   "cell_type": "code",
   "execution_count": 119,
   "metadata": {},
   "outputs": [
    {
     "data": {
      "text/plain": [
       "Text(0.5, 1.0, 'Final Bill Amount')"
      ]
     },
     "execution_count": 119,
     "metadata": {},
     "output_type": "execute_result"
    },
    {
     "data": {
      "image/png": "[encoded data removed]",
      "text/plain": [
       "<Figure size 432x288 with 1 Axes>"
      ]
     },
     "metadata": {
      "needs_background": "light"
     },
     "output_type": "display_data"
    }
   ],
   "source": [
    "finalBill = creditDefaultFalse['BILL_AMT6']\n",
    "bill_dist = sns.distplot(finalBill, bins = 8)\n",
    "bill_dist.set_title(\"Final Bill Amount\")"
   ]
  },
  {
   "cell_type": "markdown",
   "metadata": {},
   "source": [
    "## History of Payment and Defaults"
   ]
  },
  {
   "cell_type": "code",
   "execution_count": 125,
   "metadata": {},
   "outputs": [
    {
     "data": {
      "text/plain": [
       "PAY_0  default payment next month\n",
       "-2     0                              2394\n",
       "       1                               365\n",
       "-1     0                              4732\n",
       "       1                               954\n",
       " 0     0                             12849\n",
       "       1                              1888\n",
       " 1     0                              2436\n",
       "       1                              1252\n",
       " 2     0                               823\n",
       "       1                              1844\n",
       " 3     0                                78\n",
       "       1                               244\n",
       " 4     0                                24\n",
       "       1                                52\n",
       " 5     0                                13\n",
       "       1                                13\n",
       " 6     0                                 5\n",
       "       1                                 6\n",
       " 7     0                                 2\n",
       "       1                                 7\n",
       " 8     0                                 8\n",
       "       1                                11\n",
       "Name: PAY_0, dtype: int64"
      ]
     },
     "execution_count": 125,
     "metadata": {},
     "output_type": "execute_result"
    }
   ],
   "source": [
    "creditDefault.groupby(['PAY_0', 'default payment next month']) ['PAY_0'].count()"
   ]
  },
  {
   "cell_type": "code",
   "execution_count": 126,
   "metadata": {},
   "outputs": [
    {
     "data": {
      "text/plain": [
       "PAY_2  default payment next month\n",
       "-2     0                              3091\n",
       "       1                               691\n",
       "-1     0                              5084\n",
       "       1                               966\n",
       " 0     0                             13227\n",
       "       1                              2503\n",
       " 1     0                                23\n",
       "       1                                 5\n",
       " 2     0                              1743\n",
       "       1                              2184\n",
       " 3     0                               125\n",
       "       1                               201\n",
       " 4     0                                49\n",
       "       1                                50\n",
       " 5     0                                10\n",
       "       1                                15\n",
       " 6     0                                 3\n",
       "       1                                 9\n",
       " 7     0                                 8\n",
       "       1                                12\n",
       " 8     0                                 1\n",
       "Name: PAY_2, dtype: int64"
      ]
     },
     "execution_count": 126,
     "metadata": {},
     "output_type": "execute_result"
    }
   ],
   "source": [
    "creditDefault.groupby(['PAY_2', 'default payment next month']) ['PAY_2'].count()"
   ]
  },
  {
   "cell_type": "code",
   "execution_count": 127,
   "metadata": {},
   "outputs": [
    {
     "data": {
      "text/plain": [
       "PAY_3  default payment next month\n",
       "-2     0                              3328\n",
       "       1                               757\n",
       "-1     0                              5012\n",
       "       1                               926\n",
       " 0     0                             13013\n",
       "       1                              2751\n",
       " 1     0                                 3\n",
       "       1                                 1\n",
       " 2     0                              1850\n",
       "       1                              1969\n",
       " 3     0                               102\n",
       "       1                               138\n",
       " 4     0                                32\n",
       "       1                                44\n",
       " 5     0                                 9\n",
       "       1                                12\n",
       " 6     0                                 9\n",
       "       1                                14\n",
       " 7     0                                 5\n",
       "       1                                22\n",
       " 8     0                                 1\n",
       "       1                                 2\n",
       "Name: PAY_3, dtype: int64"
      ]
     },
     "execution_count": 127,
     "metadata": {},
     "output_type": "execute_result"
    }
   ],
   "source": [
    "creditDefault.groupby(['PAY_3', 'default payment next month']) ['PAY_3'].count()"
   ]
  },
  {
   "cell_type": "code",
   "execution_count": 128,
   "metadata": {},
   "outputs": [
    {
     "data": {
      "text/plain": [
       "PAY_4  default payment next month\n",
       "-2     0                              3511\n",
       "       1                               837\n",
       "-1     0                              4783\n",
       "       1                               904\n",
       " 0     0                             13439\n",
       "       1                              3016\n",
       " 1     0                                 1\n",
       "       1                                 1\n",
       " 2     0                              1506\n",
       "       1                              1653\n",
       " 3     0                                70\n",
       "       1                               110\n",
       " 4     0                                23\n",
       "       1                                46\n",
       " 5     0                                17\n",
       "       1                                18\n",
       " 6     0                                 3\n",
       "       1                                 2\n",
       " 7     0                                10\n",
       "       1                                48\n",
       " 8     0                                 1\n",
       "       1                                 1\n",
       "Name: PAY_4, dtype: int64"
      ]
     },
     "execution_count": 128,
     "metadata": {},
     "output_type": "execute_result"
    }
   ],
   "source": [
    "creditDefault.groupby(['PAY_4', 'default payment next month']) ['PAY_4'].count()"
   ]
  },
  {
   "cell_type": "code",
   "execution_count": 129,
   "metadata": {},
   "outputs": [
    {
     "data": {
      "text/plain": [
       "PAY_5  default payment next month\n",
       "-2     0                              3651\n",
       "       1                               895\n",
       "-1     0                              4642\n",
       "       1                               897\n",
       " 0     0                             13752\n",
       "       1                              3195\n",
       " 2     0                              1203\n",
       "       1                              1423\n",
       " 3     0                                65\n",
       "       1                               113\n",
       " 4     0                                33\n",
       "       1                                51\n",
       " 5     0                                 7\n",
       "       1                                10\n",
       " 6     0                                 1\n",
       "       1                                 3\n",
       " 7     0                                10\n",
       "       1                                48\n",
       " 8     1                                 1\n",
       "Name: PAY_5, dtype: int64"
      ]
     },
     "execution_count": 129,
     "metadata": {},
     "output_type": "execute_result"
    }
   ],
   "source": [
    "creditDefault.groupby(['PAY_5', 'default payment next month']) ['PAY_5'].count()"
   ]
  },
  {
   "cell_type": "code",
   "execution_count": 130,
   "metadata": {},
   "outputs": [
    {
     "data": {
      "text/plain": [
       "PAY_6  default payment next month\n",
       "-2     0                              3914\n",
       "       1                               981\n",
       "-1     0                              4765\n",
       "       1                               975\n",
       " 0     0                             13217\n",
       "       1                              3069\n",
       " 2     0                              1365\n",
       "       1                              1401\n",
       " 3     0                                66\n",
       "       1                               118\n",
       " 4     0                                18\n",
       "       1                                31\n",
       " 5     0                                 6\n",
       "       1                                 7\n",
       " 6     0                                 5\n",
       "       1                                14\n",
       " 7     0                                 8\n",
       "       1                                38\n",
       " 8     1                                 2\n",
       "Name: PAY_6, dtype: int64"
      ]
     },
     "execution_count": 130,
     "metadata": {},
     "output_type": "execute_result"
    }
   ],
   "source": [
    "creditDefault.groupby(['PAY_6', 'default payment next month']) ['PAY_6'].count()"
   ]
  },
  {
   "cell_type": "code",
   "execution_count": 131,
   "metadata": {},
   "outputs": [
    {
     "data": {
      "text/plain": [
       "<seaborn.axisgrid.FacetGrid at 0x2ad20bfaa08>"
      ]
     },
     "execution_count": 131,
     "metadata": {},
     "output_type": "execute_result"
    },
    {
     "data": {
      "image/png": "[encoded data removed]",
      "text/plain": [
       "<Figure size 676x360 with 1 Axes>"
      ]
     },
     "metadata": {
      "needs_background": "light"
     },
     "output_type": "display_data"
    }
   ],
   "source": [
    "g = sns.factorplot('default payment next month', data=creditDefault, hue='PAY_0', kind='count', aspect=1.75)\n",
    "g.set_xlabels('Payment Type')"
   ]
  },
  {
   "cell_type": "code",
   "execution_count": 133,
   "metadata": {},
   "outputs": [
    {
     "data": {
      "text/plain": [
       "<seaborn.axisgrid.FacetGrid at 0x2ad20bf7d08>"
      ]
     },
     "execution_count": 133,
     "metadata": {},
     "output_type": "execute_result"
    },
    {
     "data": {
      "image/png": "[encoded data removed]",
      "text/plain": [
       "<Figure size 676x360 with 1 Axes>"
      ]
     },
     "metadata": {
      "needs_background": "light"
     },
     "output_type": "display_data"
    }
   ],
   "source": [
    "g = sns.factorplot('default payment next month', data=creditDefault, hue='PAY_2', kind='count', aspect=1.75)\n",
    "g.set_xlabels('Payment Type')"
   ]
  },
  {
   "cell_type": "code",
   "execution_count": 134,
   "metadata": {},
   "outputs": [
    {
     "data": {
      "text/plain": [
       "<seaborn.axisgrid.FacetGrid at 0x2ad20bf7a48>"
      ]
     },
     "execution_count": 134,
     "metadata": {},
     "output_type": "execute_result"
    },
    {
     "data": {
      "image/png": "[encoded data removed]",
      "text/plain": [
       "<Figure size 676x360 with 1 Axes>"
      ]
     },
     "metadata": {
      "needs_background": "light"
     },
     "output_type": "display_data"
    }
   ],
   "source": [
    "g = sns.factorplot('default payment next month', data=creditDefault, hue='PAY_3', kind='count', aspect=1.75)\n",
    "g.set_xlabels('Payment Type')"
   ]
  },
  {
   "cell_type": "code",
   "execution_count": 135,
   "metadata": {},
   "outputs": [
    {
     "data": {
      "text/plain": [
       "<seaborn.axisgrid.FacetGrid at 0x2ad2368e308>"
      ]
     },
     "execution_count": 135,
     "metadata": {},
     "output_type": "execute_result"
    },
    {
     "data": {
      "image/png": "[encoded data removed]",
      "text/plain": [
       "<Figure size 676x360 with 1 Axes>"
      ]
     },
     "metadata": {
      "needs_background": "light"
     },
     "output_type": "display_data"
    }
   ],
   "source": [
    "g = sns.factorplot('default payment next month', data=creditDefault, hue='PAY_4', kind='count', aspect=1.75)\n",
    "g.set_xlabels('Payment Type')"
   ]
  },
  {
   "cell_type": "code",
   "execution_count": 136,
   "metadata": {},
   "outputs": [
    {
     "data": {
      "text/plain": [
       "<seaborn.axisgrid.FacetGrid at 0x2ad20cc2c08>"
      ]
     },
     "execution_count": 136,
     "metadata": {},
     "output_type": "execute_result"
    },
    {
     "data": {
      "image/png": "[encoded data removed]",
      "text/plain": [
       "<Figure size 676x360 with 1 Axes>"
      ]
     },
     "metadata": {
      "needs_background": "light"
     },
     "output_type": "display_data"
    }
   ],
   "source": [
    "g = sns.factorplot('default payment next month', data=creditDefault, hue='PAY_5', kind='count', aspect=1.75)\n",
    "g.set_xlabels('Payment Type')"
   ]
  },
  {
   "cell_type": "code",
   "execution_count": 137,
   "metadata": {},
   "outputs": [
    {
     "data": {
      "text/plain": [
       "<seaborn.axisgrid.FacetGrid at 0x2ad237d06c8>"
      ]
     },
     "execution_count": 137,
     "metadata": {},
     "output_type": "execute_result"
    },
    {
     "data": {
      "image/png": "[encoded data removed]",
      "text/plain": [
       "<Figure size 676x360 with 1 Axes>"
      ]
     },
     "metadata": {
      "needs_background": "light"
     },
     "output_type": "display_data"
    }
   ],
   "source": [
    "g = sns.factorplot('default payment next month', data=creditDefault, hue='PAY_6', kind='count', aspect=1.75)\n",
    "g.set_xlabels('Payment Type')"
   ]
  },
  {
   "cell_type": "code",
   "execution_count": null,
   "metadata": {},
   "outputs": [],
   "source": []
  }
 ],
 "metadata": {
  "kernelspec": {
   "display_name": "Python 3",
   "language": "python",
   "name": "python3"
  },
  "language_info": {
   "codemirror_mode": {
    "name": "ipython",
    "version": 3
   },
   "file_extension": ".py",
   "mimetype": "text/x-python",
   "name": "python",
   "nbconvert_exporter": "python",
   "pygments_lexer": "ipython3",
   "version": "3.7.4"
  }
 },
 "nbformat": 4,
 "nbformat_minor": 2
}
